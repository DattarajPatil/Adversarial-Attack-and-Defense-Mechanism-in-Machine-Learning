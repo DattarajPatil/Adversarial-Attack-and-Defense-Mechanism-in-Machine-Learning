{
  "cells": [
    {
      "cell_type": "markdown",
      "metadata": {
        "id": "view-in-github",
        "colab_type": "text"
      },
      "source": [
        "<a href=\"https://colab.research.google.com/github/DattarajPatil/Adversarial-Attack-and-Defense-Mechanism-in-Machine-Learning/blob/main/chapter_appendix-tools-for-deep-learning/jupyter.ipynb\" target=\"_parent\"><img src=\"https://colab.research.google.com/assets/colab-badge.svg\" alt=\"Open In Colab\"/></a>"
      ]
    },
    {
      "cell_type": "code",
      "source": [
        "from pyspark.sql import SparkSession\n",
        "from pyspark.sql.types import *\n",
        "from pyspark.sql.functions import *"
      ],
      "metadata": {
        "id": "kCgVE5vLHdY6"
      },
      "id": "kCgVE5vLHdY6",
      "execution_count": 1,
      "outputs": []
    },
    {
      "cell_type": "code",
      "source": [
        "spark = SparkSession.builder.appName(\"Pyspark\").getOrCreate()"
      ],
      "metadata": {
        "id": "XUVb2gUVHxUh"
      },
      "id": "XUVb2gUVHxUh",
      "execution_count": 2,
      "outputs": []
    },
    {
      "cell_type": "code",
      "source": [
        "data = [\n",
        "    (\"James\", \"Smith\", \"USA\", \"CA\", 1, 10000, \"2023-01-15\"),\n",
        "    (\"Michael\", \"Rose\", \"USA\", \"NY\", 2, 8000, \"2023-01-15\"),\n",
        "    (\"Robert\", \"Williams\", \"USA\", \"CA\", 3, 15000, \"2023-01-15\"),\n",
        "    (\"Maria\", \"Jones\", \"IND\", \"TN\", 4, 12000, \"2023-02-20\"),\n",
        "    (\"Jenna\", \"Brown\", \"IND\", \"KA\", 5, 9000, \"2023-02-20\"),\n",
        "    (\"James\", \"Smith\", \"USA\", \"CA\", 1, 10000, \"2023-03-01\") # Duplicate\n",
        "]\n",
        "schema = [\"firstname\", \"lastname\", \"country\", \"state\", \"id\", \"salary\", \"join_date\"]"
      ],
      "metadata": {
        "id": "Lfh-_JuiICWy"
      },
      "id": "Lfh-_JuiICWy",
      "execution_count": 3,
      "outputs": []
    },
    {
      "cell_type": "code",
      "source": [
        "df = spark.createDataFrame(data, schema)"
      ],
      "metadata": {
        "id": "bVLkRfwKILX0"
      },
      "id": "bVLkRfwKILX0",
      "execution_count": 4,
      "outputs": []
    },
    {
      "cell_type": "code",
      "source": [
        "df = df.withColumn(\"join_data\", col(\"join_date\").cast(\"date\"))"
      ],
      "metadata": {
        "id": "gTVPwN1bIScK"
      },
      "id": "gTVPwN1bIScK",
      "execution_count": 5,
      "outputs": []
    },
    {
      "cell_type": "code",
      "source": [
        "df.show()"
      ],
      "metadata": {
        "id": "3TxGLnTJId_n",
        "outputId": "9b625f47-9c1e-44ba-ce88-82a84dfdf940",
        "colab": {
          "base_uri": "https://localhost:8080/"
        }
      },
      "id": "3TxGLnTJId_n",
      "execution_count": 6,
      "outputs": [
        {
          "output_type": "stream",
          "name": "stdout",
          "text": [
            "+---------+--------+-------+-----+---+------+----------+----------+\n",
            "|firstname|lastname|country|state| id|salary| join_date| join_data|\n",
            "+---------+--------+-------+-----+---+------+----------+----------+\n",
            "|    James|   Smith|    USA|   CA|  1| 10000|2023-01-15|2023-01-15|\n",
            "|  Michael|    Rose|    USA|   NY|  2|  8000|2023-01-15|2023-01-15|\n",
            "|   Robert|Williams|    USA|   CA|  3| 15000|2023-01-15|2023-01-15|\n",
            "|    Maria|   Jones|    IND|   TN|  4| 12000|2023-02-20|2023-02-20|\n",
            "|    Jenna|   Brown|    IND|   KA|  5|  9000|2023-02-20|2023-02-20|\n",
            "|    James|   Smith|    USA|   CA|  1| 10000|2023-03-01|2023-03-01|\n",
            "+---------+--------+-------+-----+---+------+----------+----------+\n",
            "\n"
          ]
        }
      ]
    },
    {
      "cell_type": "code",
      "source": [
        "df.printSchema()"
      ],
      "metadata": {
        "id": "s2y3rgmYIiUI",
        "outputId": "c2c664cf-5767-455d-8081-165cf7427d9a",
        "colab": {
          "base_uri": "https://localhost:8080/"
        }
      },
      "id": "s2y3rgmYIiUI",
      "execution_count": 7,
      "outputs": [
        {
          "output_type": "stream",
          "name": "stdout",
          "text": [
            "root\n",
            " |-- firstname: string (nullable = true)\n",
            " |-- lastname: string (nullable = true)\n",
            " |-- country: string (nullable = true)\n",
            " |-- state: string (nullable = true)\n",
            " |-- id: long (nullable = true)\n",
            " |-- salary: long (nullable = true)\n",
            " |-- join_date: string (nullable = true)\n",
            " |-- join_data: date (nullable = true)\n",
            "\n"
          ]
        }
      ]
    },
    {
      "cell_type": "code",
      "source": [
        "df.select(\"firstname\", \"salary\").show()"
      ],
      "metadata": {
        "id": "oKyfDYQWIpCG",
        "outputId": "f91bc156-56fb-49f5-ff85-1ce9389f9704",
        "colab": {
          "base_uri": "https://localhost:8080/"
        }
      },
      "id": "oKyfDYQWIpCG",
      "execution_count": 8,
      "outputs": [
        {
          "output_type": "stream",
          "name": "stdout",
          "text": [
            "+---------+------+\n",
            "|firstname|salary|\n",
            "+---------+------+\n",
            "|    James| 10000|\n",
            "|  Michael|  8000|\n",
            "|   Robert| 15000|\n",
            "|    Maria| 12000|\n",
            "|    Jenna|  9000|\n",
            "|    James| 10000|\n",
            "+---------+------+\n",
            "\n"
          ]
        }
      ]
    },
    {
      "cell_type": "code",
      "source": [
        "df.count()"
      ],
      "metadata": {
        "id": "MdrgcfjdMlez",
        "outputId": "000acd2f-2016-4ce1-9030-d86a2bd8d0bd",
        "colab": {
          "base_uri": "https://localhost:8080/"
        }
      },
      "id": "MdrgcfjdMlez",
      "execution_count": 9,
      "outputs": [
        {
          "output_type": "execute_result",
          "data": {
            "text/plain": [
              "6"
            ]
          },
          "metadata": {},
          "execution_count": 9
        }
      ]
    },
    {
      "cell_type": "code",
      "source": [
        "df.distinct().count()"
      ],
      "metadata": {
        "id": "pJbH7L53Mo1R",
        "outputId": "052151e7-1904-448a-e436-b8faaa57b519",
        "colab": {
          "base_uri": "https://localhost:8080/"
        }
      },
      "id": "pJbH7L53Mo1R",
      "execution_count": 10,
      "outputs": [
        {
          "output_type": "execute_result",
          "data": {
            "text/plain": [
              "6"
            ]
          },
          "metadata": {},
          "execution_count": 10
        }
      ]
    },
    {
      "cell_type": "code",
      "source": [
        "df.dtypes"
      ],
      "metadata": {
        "id": "cqQY_fuBMs5L",
        "outputId": "967ba198-1fcf-47cc-f82e-16b3f39bd6ff",
        "colab": {
          "base_uri": "https://localhost:8080/"
        }
      },
      "id": "cqQY_fuBMs5L",
      "execution_count": 12,
      "outputs": [
        {
          "output_type": "execute_result",
          "data": {
            "text/plain": [
              "[('firstname', 'string'),\n",
              " ('lastname', 'string'),\n",
              " ('country', 'string'),\n",
              " ('state', 'string'),\n",
              " ('id', 'bigint'),\n",
              " ('salary', 'bigint'),\n",
              " ('join_date', 'string'),\n",
              " ('join_data', 'date')]"
            ]
          },
          "metadata": {},
          "execution_count": 12
        }
      ]
    },
    {
      "cell_type": "code",
      "source": [
        "df.describe().show()"
      ],
      "metadata": {
        "id": "T7eoq3EIM_AK",
        "outputId": "d61d33be-17b5-41ee-929f-0f0e1541b19b",
        "colab": {
          "base_uri": "https://localhost:8080/"
        }
      },
      "id": "T7eoq3EIM_AK",
      "execution_count": 13,
      "outputs": [
        {
          "output_type": "stream",
          "name": "stdout",
          "text": [
            "+-------+---------+--------+-------+-----+------------------+------------------+----------+\n",
            "|summary|firstname|lastname|country|state|                id|            salary| join_date|\n",
            "+-------+---------+--------+-------+-----+------------------+------------------+----------+\n",
            "|  count|        6|       6|      6|    6|                 6|                 6|         6|\n",
            "|   mean|     NULL|    NULL|   NULL| NULL|2.6666666666666665|10666.666666666666|      NULL|\n",
            "| stddev|     NULL|    NULL|   NULL| NULL| 1.632993161855452| 2503.331114069145|      NULL|\n",
            "|    min|    James|   Brown|    IND|   CA|                 1|              8000|2023-01-15|\n",
            "|    max|   Robert|Williams|    USA|   TN|                 5|             15000|2023-03-01|\n",
            "+-------+---------+--------+-------+-----+------------------+------------------+----------+\n",
            "\n"
          ]
        }
      ]
    },
    {
      "cell_type": "code",
      "source": [
        "df.head(1)"
      ],
      "metadata": {
        "id": "dlSTu8IcNF7m",
        "outputId": "dabc3c55-19a2-4862-f217-ac73d6f21770",
        "colab": {
          "base_uri": "https://localhost:8080/"
        }
      },
      "id": "dlSTu8IcNF7m",
      "execution_count": 14,
      "outputs": [
        {
          "output_type": "execute_result",
          "data": {
            "text/plain": [
              "[Row(firstname='James', lastname='Smith', country='USA', state='CA', id=1, salary=10000, join_date='2023-01-15', join_data=datetime.date(2023, 1, 15))]"
            ]
          },
          "metadata": {},
          "execution_count": 14
        }
      ]
    },
    {
      "cell_type": "code",
      "source": [
        "df.createOrReplaceTempView(\"employees\")"
      ],
      "metadata": {
        "id": "HdbGI3SyNPIF"
      },
      "id": "HdbGI3SyNPIF",
      "execution_count": 15,
      "outputs": []
    },
    {
      "cell_type": "code",
      "source": [
        "spark.sql(\"SELECT country, count(1) FROM employees GROUP BY country\").show()"
      ],
      "metadata": {
        "id": "ZCq3-OodOEC1",
        "outputId": "a04cb83b-b434-42e9-d694-4b7568324508",
        "colab": {
          "base_uri": "https://localhost:8080/"
        }
      },
      "id": "ZCq3-OodOEC1",
      "execution_count": 16,
      "outputs": [
        {
          "output_type": "stream",
          "name": "stdout",
          "text": [
            "+-------+--------+\n",
            "|country|count(1)|\n",
            "+-------+--------+\n",
            "|    USA|       4|\n",
            "|    IND|       2|\n",
            "+-------+--------+\n",
            "\n"
          ]
        }
      ]
    },
    {
      "cell_type": "code",
      "source": [
        "df.withColumn(\"const_val\", lit(1)).show(5)"
      ],
      "metadata": {
        "id": "nhFSdLDZOIW-",
        "outputId": "bc5b72f0-96e5-496a-b7fc-4cf350bf9c7d",
        "colab": {
          "base_uri": "https://localhost:8080/"
        }
      },
      "id": "nhFSdLDZOIW-",
      "execution_count": 18,
      "outputs": [
        {
          "output_type": "stream",
          "name": "stdout",
          "text": [
            "+---------+--------+-------+-----+---+------+----------+----------+---------+\n",
            "|firstname|lastname|country|state| id|salary| join_date| join_data|const_val|\n",
            "+---------+--------+-------+-----+---+------+----------+----------+---------+\n",
            "|    James|   Smith|    USA|   CA|  1| 10000|2023-01-15|2023-01-15|        1|\n",
            "|  Michael|    Rose|    USA|   NY|  2|  8000|2023-01-15|2023-01-15|        1|\n",
            "|   Robert|Williams|    USA|   CA|  3| 15000|2023-01-15|2023-01-15|        1|\n",
            "|    Maria|   Jones|    IND|   TN|  4| 12000|2023-02-20|2023-02-20|        1|\n",
            "|    Jenna|   Brown|    IND|   KA|  5|  9000|2023-02-20|2023-02-20|        1|\n",
            "+---------+--------+-------+-----+---+------+----------+----------+---------+\n",
            "only showing top 5 rows\n",
            "\n"
          ]
        }
      ]
    },
    {
      "cell_type": "code",
      "source": [
        "df.withColumnRenamed(\"country\", \"source_country\").show()"
      ],
      "metadata": {
        "id": "qbx4coF7OejR",
        "outputId": "fdf4c1f3-93aa-4bc7-b30d-32aa1cd58288",
        "colab": {
          "base_uri": "https://localhost:8080/"
        }
      },
      "id": "qbx4coF7OejR",
      "execution_count": 19,
      "outputs": [
        {
          "output_type": "stream",
          "name": "stdout",
          "text": [
            "+---------+--------+--------------+-----+---+------+----------+----------+\n",
            "|firstname|lastname|source_country|state| id|salary| join_date| join_data|\n",
            "+---------+--------+--------------+-----+---+------+----------+----------+\n",
            "|    James|   Smith|           USA|   CA|  1| 10000|2023-01-15|2023-01-15|\n",
            "|  Michael|    Rose|           USA|   NY|  2|  8000|2023-01-15|2023-01-15|\n",
            "|   Robert|Williams|           USA|   CA|  3| 15000|2023-01-15|2023-01-15|\n",
            "|    Maria|   Jones|           IND|   TN|  4| 12000|2023-02-20|2023-02-20|\n",
            "|    Jenna|   Brown|           IND|   KA|  5|  9000|2023-02-20|2023-02-20|\n",
            "|    James|   Smith|           USA|   CA|  1| 10000|2023-03-01|2023-03-01|\n",
            "+---------+--------+--------------+-----+---+------+----------+----------+\n",
            "\n"
          ]
        }
      ]
    },
    {
      "cell_type": "code",
      "source": [
        "df.drop(\"join_date\").show()"
      ],
      "metadata": {
        "id": "DM52eNhgPPVQ",
        "outputId": "6418c246-ff21-46e7-a096-6c9db4e5e7a0",
        "colab": {
          "base_uri": "https://localhost:8080/"
        }
      },
      "id": "DM52eNhgPPVQ",
      "execution_count": 20,
      "outputs": [
        {
          "output_type": "stream",
          "name": "stdout",
          "text": [
            "+---------+--------+-------+-----+---+------+----------+\n",
            "|firstname|lastname|country|state| id|salary| join_data|\n",
            "+---------+--------+-------+-----+---+------+----------+\n",
            "|    James|   Smith|    USA|   CA|  1| 10000|2023-01-15|\n",
            "|  Michael|    Rose|    USA|   NY|  2|  8000|2023-01-15|\n",
            "|   Robert|Williams|    USA|   CA|  3| 15000|2023-01-15|\n",
            "|    Maria|   Jones|    IND|   TN|  4| 12000|2023-02-20|\n",
            "|    Jenna|   Brown|    IND|   KA|  5|  9000|2023-02-20|\n",
            "|    James|   Smith|    USA|   CA|  1| 10000|2023-03-01|\n",
            "+---------+--------+-------+-----+---+------+----------+\n",
            "\n"
          ]
        }
      ]
    },
    {
      "cell_type": "code",
      "source": [
        "df.withColumn(\"daily_salary\", col(\"salary\")/30).show()"
      ],
      "metadata": {
        "id": "bwk_pxprPY3L",
        "outputId": "c0a1a077-89c5-45d1-c562-3e0eda854c09",
        "colab": {
          "base_uri": "https://localhost:8080/"
        }
      },
      "id": "bwk_pxprPY3L",
      "execution_count": 21,
      "outputs": [
        {
          "output_type": "stream",
          "name": "stdout",
          "text": [
            "+---------+--------+-------+-----+---+------+----------+----------+-----------------+\n",
            "|firstname|lastname|country|state| id|salary| join_date| join_data|     daily_salary|\n",
            "+---------+--------+-------+-----+---+------+----------+----------+-----------------+\n",
            "|    James|   Smith|    USA|   CA|  1| 10000|2023-01-15|2023-01-15|333.3333333333333|\n",
            "|  Michael|    Rose|    USA|   NY|  2|  8000|2023-01-15|2023-01-15|266.6666666666667|\n",
            "|   Robert|Williams|    USA|   CA|  3| 15000|2023-01-15|2023-01-15|            500.0|\n",
            "|    Maria|   Jones|    IND|   TN|  4| 12000|2023-02-20|2023-02-20|            400.0|\n",
            "|    Jenna|   Brown|    IND|   KA|  5|  9000|2023-02-20|2023-02-20|            300.0|\n",
            "|    James|   Smith|    USA|   CA|  1| 10000|2023-03-01|2023-03-01|333.3333333333333|\n",
            "+---------+--------+-------+-----+---+------+----------+----------+-----------------+\n",
            "\n"
          ]
        }
      ]
    },
    {
      "cell_type": "code",
      "source": [
        "df.withColumn(\"daily_salary\", round(col(\"salary\")/30, 2)).show()"
      ],
      "metadata": {
        "id": "Sg98ro3aQswI",
        "outputId": "4de6bce9-1c2b-4448-92fd-270e6f951ba6",
        "colab": {
          "base_uri": "https://localhost:8080/"
        }
      },
      "id": "Sg98ro3aQswI",
      "execution_count": 22,
      "outputs": [
        {
          "output_type": "stream",
          "name": "stdout",
          "text": [
            "+---------+--------+-------+-----+---+------+----------+----------+------------+\n",
            "|firstname|lastname|country|state| id|salary| join_date| join_data|daily_salary|\n",
            "+---------+--------+-------+-----+---+------+----------+----------+------------+\n",
            "|    James|   Smith|    USA|   CA|  1| 10000|2023-01-15|2023-01-15|      333.33|\n",
            "|  Michael|    Rose|    USA|   NY|  2|  8000|2023-01-15|2023-01-15|      266.67|\n",
            "|   Robert|Williams|    USA|   CA|  3| 15000|2023-01-15|2023-01-15|       500.0|\n",
            "|    Maria|   Jones|    IND|   TN|  4| 12000|2023-02-20|2023-02-20|       400.0|\n",
            "|    Jenna|   Brown|    IND|   KA|  5|  9000|2023-02-20|2023-02-20|       300.0|\n",
            "|    James|   Smith|    USA|   CA|  1| 10000|2023-03-01|2023-03-01|      333.33|\n",
            "+---------+--------+-------+-----+---+------+----------+----------+------------+\n",
            "\n"
          ]
        }
      ]
    },
    {
      "cell_type": "code",
      "source": [
        "df.filter(col(\"salary\")>10000).show()"
      ],
      "metadata": {
        "id": "AgGfB1xZVK95",
        "outputId": "361f0342-c970-47bf-c9ac-e99d9fe2624e",
        "colab": {
          "base_uri": "https://localhost:8080/"
        }
      },
      "id": "AgGfB1xZVK95",
      "execution_count": 23,
      "outputs": [
        {
          "output_type": "stream",
          "name": "stdout",
          "text": [
            "+---------+--------+-------+-----+---+------+----------+----------+\n",
            "|firstname|lastname|country|state| id|salary| join_date| join_data|\n",
            "+---------+--------+-------+-----+---+------+----------+----------+\n",
            "|   Robert|Williams|    USA|   CA|  3| 15000|2023-01-15|2023-01-15|\n",
            "|    Maria|   Jones|    IND|   TN|  4| 12000|2023-02-20|2023-02-20|\n",
            "+---------+--------+-------+-----+---+------+----------+----------+\n",
            "\n"
          ]
        }
      ]
    },
    {
      "cell_type": "code",
      "source": [
        "df.filter((col(\"country\")== \"USA\") & (col(\"state\")== \"NY\")).show()"
      ],
      "metadata": {
        "id": "hyGnXOLzVWId",
        "outputId": "2f4e1bd1-80be-45d6-a2fd-a1415e97f4a1",
        "colab": {
          "base_uri": "https://localhost:8080/"
        }
      },
      "id": "hyGnXOLzVWId",
      "execution_count": 24,
      "outputs": [
        {
          "output_type": "stream",
          "name": "stdout",
          "text": [
            "+---------+--------+-------+-----+---+------+----------+----------+\n",
            "|firstname|lastname|country|state| id|salary| join_date| join_data|\n",
            "+---------+--------+-------+-----+---+------+----------+----------+\n",
            "|  Michael|    Rose|    USA|   NY|  2|  8000|2023-01-15|2023-01-15|\n",
            "+---------+--------+-------+-----+---+------+----------+----------+\n",
            "\n"
          ]
        }
      ]
    },
    {
      "cell_type": "code",
      "source": [
        "df.filter(col(\"state\").isin(\"CA\", \"TN\")).show()"
      ],
      "metadata": {
        "id": "3_dL51IGVxp4",
        "outputId": "f427a968-9e5e-458c-8181-a42af3d25cc7",
        "colab": {
          "base_uri": "https://localhost:8080/"
        }
      },
      "id": "3_dL51IGVxp4",
      "execution_count": 25,
      "outputs": [
        {
          "output_type": "stream",
          "name": "stdout",
          "text": [
            "+---------+--------+-------+-----+---+------+----------+----------+\n",
            "|firstname|lastname|country|state| id|salary| join_date| join_data|\n",
            "+---------+--------+-------+-----+---+------+----------+----------+\n",
            "|    James|   Smith|    USA|   CA|  1| 10000|2023-01-15|2023-01-15|\n",
            "|   Robert|Williams|    USA|   CA|  3| 15000|2023-01-15|2023-01-15|\n",
            "|    Maria|   Jones|    IND|   TN|  4| 12000|2023-02-20|2023-02-20|\n",
            "|    James|   Smith|    USA|   CA|  1| 10000|2023-03-01|2023-03-01|\n",
            "+---------+--------+-------+-----+---+------+----------+----------+\n",
            "\n"
          ]
        }
      ]
    },
    {
      "cell_type": "code",
      "source": [
        "df.filter(col(\"state\").isNotNull()).show()"
      ],
      "metadata": {
        "id": "7vfXuFMgWr1T",
        "outputId": "ae3a0af1-3db6-47d7-8f6e-31ecf44bde04",
        "colab": {
          "base_uri": "https://localhost:8080/"
        }
      },
      "id": "7vfXuFMgWr1T",
      "execution_count": 29,
      "outputs": [
        {
          "output_type": "stream",
          "name": "stdout",
          "text": [
            "+---------+--------+-------+-----+---+------+----------+----------+\n",
            "|firstname|lastname|country|state| id|salary| join_date| join_data|\n",
            "+---------+--------+-------+-----+---+------+----------+----------+\n",
            "|    James|   Smith|    USA|   CA|  1| 10000|2023-01-15|2023-01-15|\n",
            "|  Michael|    Rose|    USA|   NY|  2|  8000|2023-01-15|2023-01-15|\n",
            "|   Robert|Williams|    USA|   CA|  3| 15000|2023-01-15|2023-01-15|\n",
            "|    Maria|   Jones|    IND|   TN|  4| 12000|2023-02-20|2023-02-20|\n",
            "|    Jenna|   Brown|    IND|   KA|  5|  9000|2023-02-20|2023-02-20|\n",
            "|    James|   Smith|    USA|   CA|  1| 10000|2023-03-01|2023-03-01|\n",
            "+---------+--------+-------+-----+---+------+----------+----------+\n",
            "\n"
          ]
        }
      ]
    },
    {
      "cell_type": "code",
      "source": [],
      "metadata": {
        "id": "1jxaWLx-W4B5"
      },
      "id": "1jxaWLx-W4B5",
      "execution_count": null,
      "outputs": []
    }
  ],
  "metadata": {
    "kernelspec": {
      "display_name": "Python 3",
      "name": "python3"
    },
    "language_info": {
      "name": "python"
    },
    "required_libs": [],
    "colab": {
      "provenance": [],
      "include_colab_link": true
    }
  },
  "nbformat": 4,
  "nbformat_minor": 5
}